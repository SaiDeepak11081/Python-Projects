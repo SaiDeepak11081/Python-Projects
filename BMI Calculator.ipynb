{
 "cells": [
  {
   "cell_type": "markdown",
   "id": "663f23ed-afbf-40da-925b-25003833d4a4",
   "metadata": {},
   "source": [
    " # BMI Calculator"
   ]
  },
  {
   "cell_type": "code",
   "execution_count": 43,
   "id": "c846f8af-339b-47da-a4ed-8bded5dc15e5",
   "metadata": {},
   "outputs": [
    {
     "name": "stdin",
     "output_type": "stream",
     "text": [
      "Enter your name:  sai\n",
      "Enter your weight in kilos:  70\n",
      "Enter your height in centimetres:  172\n"
     ]
    },
    {
     "name": "stdout",
     "output_type": "stream",
     "text": [
      "Hello sai Your BMI is: 23.661438615467823\n",
      "You are in normal weight...\n"
     ]
    }
   ],
   "source": [
    "name = str(input(\"Enter your name: \"))\n",
    "weight_kgs = float(input(\"Enter your weight in kilos: \"))\n",
    "height_cms = float(input(\"Enter your height in centimetres: \"))\n",
    "\n",
    "calculate_bmi(name, weight_kgs, height_cms)\n",
    "\n",
    "def calculate_bmi(name, weight_kgs, height_cms):\n",
    "    height_total = height_cms / 100\n",
    "    bmi = weight_kgs / (height_total ** 2)\n",
    "    #print(\"Your BMI is:\", bmi)\n",
    "    if bmi > 0:\n",
    "        if bmi < 18.5:\n",
    "            print(\"Hello\", name, \"Your BMI is:\", bmi)\n",
    "            print(\"You are Underweight...\")\n",
    "        elif bmi >= 18.5 and bmi <= 24.9:\n",
    "            print(\"Hello\", name, \"Your BMI is:\", bmi)\n",
    "            print(\"You are in normal weight...\")\n",
    "        elif bmi >= 25 and bmi <= 29.9:\n",
    "            print(\"Hello\", name, \"Your BMI is:\", bmi) \n",
    "            print(\"You are Overweight...\")\n",
    "        elif bmi >= 30 and bmi <= 34.9:\n",
    "            print(\"Hello\", name, \"Your BMI is:\", bmi)\n",
    "            print(\"You are obese...\")\n",
    "        elif bmi >= 35 and bmi <= 39.9:\n",
    "            print(\"Hello\", name, \"Your BMI is:\", bmi)\n",
    "            print(\"You are severly obese...\")\n",
    "        else:\n",
    "            print(\"Hello\", name, \"Your BMI is:\", bmi)\n",
    "            print(\"You are morbidly obese(extremely high weight)\")\n",
    "    else:\n",
    "        print(\"Enter valid inputs\")\n",
    "\n",
    "\n",
    "# calculate_bmi(name, weight_kgs, height_cms)"
   ]
  },
  {
   "cell_type": "code",
   "execution_count": null,
   "id": "52dc6229-ff20-4b61-9c2e-eb8a778f153d",
   "metadata": {},
   "outputs": [],
   "source": []
  }
 ],
 "metadata": {
  "kernelspec": {
   "display_name": "Python [conda env:base] *",
   "language": "python",
   "name": "conda-base-py"
  },
  "language_info": {
   "codemirror_mode": {
    "name": "ipython",
    "version": 3
   },
   "file_extension": ".py",
   "mimetype": "text/x-python",
   "name": "python",
   "nbconvert_exporter": "python",
   "pygments_lexer": "ipython3",
   "version": "3.12.7"
  }
 },
 "nbformat": 4,
 "nbformat_minor": 5
}
