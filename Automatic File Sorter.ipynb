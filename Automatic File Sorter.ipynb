{
 "cells": [
  {
   "cell_type": "markdown",
   "id": "e57527ef-646a-4080-824f-7c1cbf69a0b3",
   "metadata": {},
   "source": [
    "# Automatic File Sorter in File Explorer"
   ]
  },
  {
   "cell_type": "code",
   "execution_count": 3,
   "id": "305a0f26-10fe-4a1e-9f1f-997e4191a467",
   "metadata": {},
   "outputs": [],
   "source": [
    " import os, shutil"
   ]
  },
  {
   "cell_type": "code",
   "execution_count": 11,
   "id": "31d8d7d2-cb37-4c70-9e98-796049f05162",
   "metadata": {},
   "outputs": [],
   "source": [
    "path = r\"C:/Users/Sai Deepak/OneDrive/Documents/File sorter Python Tutorial/\""
   ]
  },
  {
   "cell_type": "code",
   "execution_count": 13,
   "id": "2a815bbd-5408-4a5f-9a12-ed81aa920b42",
   "metadata": {},
   "outputs": [],
   "source": [
    "file_name = os.listdir(path)"
   ]
  },
  {
   "cell_type": "code",
   "execution_count": 23,
   "id": "ecf6a555-af73-478c-a58a-48c5a809dcee",
   "metadata": {},
   "outputs": [],
   "source": [
    "folder_name = ['csv files', 'image files', 'text files']\n",
    "\n",
    "for loop in range(0,3):\n",
    "    if not os.path.exists(path + folder_name[loop]):\n",
    "        os.makedirs(path + folder_name[loop])\n",
    "\n",
    "for file in file_name:\n",
    "    if \".csv\" in file and not os.path.exists(path + \"csv files/\" + file):\n",
    "        shutil.move(path + file, path + \"csv files/\" + file)\n",
    "    if \".png\" in file and not os.path.exists(path + \"image files/\" + file):\n",
    "        shutil.move(path + file, path + \"image files/\" + file)\n",
    "    if \".txt\" in file and not os.path.exists(path + \"text files/\" + file):\n",
    "        shutil.move(path + file, path + \"text files/\" + file)"
   ]
  },
  {
   "cell_type": "code",
   "execution_count": null,
   "id": "0dc9914c-a027-440d-ad75-8f17c4e744d6",
   "metadata": {},
   "outputs": [],
   "source": []
  },
  {
   "cell_type": "code",
   "execution_count": null,
   "id": "7c0b18d7-01a9-448d-b6f7-779f4a681f5d",
   "metadata": {},
   "outputs": [],
   "source": []
  },
  {
   "cell_type": "code",
   "execution_count": null,
   "id": "c1507bfc-16d2-4033-9dd6-3b97ddaea895",
   "metadata": {},
   "outputs": [],
   "source": []
  },
  {
   "cell_type": "code",
   "execution_count": null,
   "id": "a232b878-62a7-4abf-9ba6-8e8052406c1c",
   "metadata": {},
   "outputs": [],
   "source": []
  },
  {
   "cell_type": "code",
   "execution_count": null,
   "id": "01d8fbb0-0435-454f-a87c-ebad89f264f2",
   "metadata": {},
   "outputs": [],
   "source": []
  },
  {
   "cell_type": "code",
   "execution_count": null,
   "id": "e38a5558-0d9b-422b-b5f9-cb6eb56b20e9",
   "metadata": {},
   "outputs": [],
   "source": []
  },
  {
   "cell_type": "code",
   "execution_count": null,
   "id": "b715d10d-9136-422e-9950-15c579da3803",
   "metadata": {},
   "outputs": [],
   "source": []
  },
  {
   "cell_type": "code",
   "execution_count": null,
   "id": "39702e1a-2c96-42c7-b957-3a1a93a967bf",
   "metadata": {},
   "outputs": [],
   "source": []
  },
  {
   "cell_type": "code",
   "execution_count": null,
   "id": "df095c7f-54b6-4d0b-ba93-59a094e2654e",
   "metadata": {},
   "outputs": [],
   "source": []
  },
  {
   "cell_type": "code",
   "execution_count": null,
   "id": "98e4be08-c3dc-40d4-a21d-c8c5e425902c",
   "metadata": {},
   "outputs": [],
   "source": []
  },
  {
   "cell_type": "code",
   "execution_count": null,
   "id": "4fd705c3-005d-45cd-8151-d95239c8a557",
   "metadata": {},
   "outputs": [],
   "source": []
  },
  {
   "cell_type": "code",
   "execution_count": null,
   "id": "13487631-5461-4d62-9885-36095af69f3d",
   "metadata": {},
   "outputs": [],
   "source": []
  },
  {
   "cell_type": "code",
   "execution_count": null,
   "id": "676d1adb-e94e-4f71-998f-8dae81a0f2b3",
   "metadata": {},
   "outputs": [],
   "source": []
  },
  {
   "cell_type": "code",
   "execution_count": null,
   "id": "badcc9e7-2445-4a9b-a527-d8739c7ef530",
   "metadata": {},
   "outputs": [],
   "source": []
  },
  {
   "cell_type": "code",
   "execution_count": null,
   "id": "7c2649c3-e091-4566-8227-ab42376e33f4",
   "metadata": {},
   "outputs": [],
   "source": []
  },
  {
   "cell_type": "code",
   "execution_count": null,
   "id": "ee5c25c7-6143-4aee-a1c2-1d4b3c1d8a58",
   "metadata": {},
   "outputs": [],
   "source": []
  },
  {
   "cell_type": "code",
   "execution_count": null,
   "id": "a578eff2-4ecd-4ad9-b96f-87b1aa8a458e",
   "metadata": {},
   "outputs": [],
   "source": []
  },
  {
   "cell_type": "code",
   "execution_count": null,
   "id": "6a8536d5-df81-422d-9139-39748f92771f",
   "metadata": {},
   "outputs": [],
   "source": []
  },
  {
   "cell_type": "code",
   "execution_count": null,
   "id": "53281b23-5f99-4be4-a3b6-8a66279343d9",
   "metadata": {},
   "outputs": [],
   "source": []
  }
 ],
 "metadata": {
  "kernelspec": {
   "display_name": "Python [conda env:base] *",
   "language": "python",
   "name": "conda-base-py"
  },
  "language_info": {
   "codemirror_mode": {
    "name": "ipython",
    "version": 3
   },
   "file_extension": ".py",
   "mimetype": "text/x-python",
   "name": "python",
   "nbconvert_exporter": "python",
   "pygments_lexer": "ipython3",
   "version": "3.12.7"
  }
 },
 "nbformat": 4,
 "nbformat_minor": 5
}
